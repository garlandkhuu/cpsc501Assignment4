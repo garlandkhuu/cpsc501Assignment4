{
  "nbformat": 4,
  "nbformat_minor": 0,
  "metadata": {
    "colab": {
      "name": "CPSC501Assignment4Part1.ipynb",
      "provenance": [],
      "collapsed_sections": []
    },
    "kernelspec": {
      "name": "python3",
      "display_name": "Python 3"
    }
  },
  "cells": [
    {
      "cell_type": "code",
      "metadata": {
        "id": "m4eZDEIAx0aH",
        "colab_type": "code",
        "outputId": "3e9c8f7a-1dfd-4505-f297-d6f0a59635d7",
        "colab": {
          "base_uri": "https://localhost:8080/",
          "height": 35
        }
      },
      "source": [
        "try:\n",
        "  # %tensorflow_version only exists in Colab.\n",
        "  %tensorflow_version 2.x\n",
        "except Exception:\n",
        "  pass"
      ],
      "execution_count": 0,
      "outputs": [
        {
          "output_type": "stream",
          "text": [
            "TensorFlow 2.x selected.\n"
          ],
          "name": "stdout"
        }
      ]
    },
    {
      "cell_type": "code",
      "metadata": {
        "id": "ITCcIDcJx02Q",
        "colab_type": "code",
        "outputId": "577546ce-20f0-45cc-9c78-a1fb64cf62bd",
        "colab": {
          "base_uri": "https://localhost:8080/",
          "height": 1000
        }
      },
      "source": [
        "import tensorflow as tf\n",
        "\n",
        "print(\"--Get data--\")\n",
        "mnist = tf.keras.datasets.mnist\n",
        "(x_train, y_train), (x_test, y_test) = mnist.load_data()\n",
        "\n",
        "print(\"--Process data--\")\n",
        "x_train, x_test = x_train / 255.0, x_test / 255.0\n",
        "\n",
        "print(\"--Make model--\")\n",
        "model = tf.keras.models.Sequential([\n",
        "  tf.keras.layers.Flatten(input_shape=(28, 28)),\n",
        "  tf.keras.layers.Dense(128, activation='relu'),\n",
        "  tf.keras.layers.Dense(128, activation='relu'),\n",
        "  tf.keras.layers.Dense(10, activation='softmax')\n",
        "])\n",
        "model.compile(optimizer='adam', loss='sparse_categorical_crossentropy', metrics=['accuracy'])\n",
        "\n",
        "print(\"--Fit model--\")\n",
        "model.fit(x_train, y_train, epochs=30, verbose=2)\n",
        "\n",
        "print(\"--Evaluate train model--\")\n",
        "model_loss, model_acc = model.evaluate(x_train,  y_train, verbose=2)\n",
        "print(f\"Model Loss:    {model_loss:.2f}\")\n",
        "print(f\"Model Accuray: {model_acc*100:.1f}%\")\n",
        "\n",
        "print(\"--Evaluate test model--\")\n",
        "model_loss, model_acc = model.evaluate(x_test,  y_test, verbose=2)\n",
        "print(f\"Model Loss:    {model_loss:.2f}\")\n",
        "print(f\"Model Accuray: {model_acc*100:.1f}%\")"
      ],
      "execution_count": 0,
      "outputs": [
        {
          "output_type": "stream",
          "text": [
            "--Get data--\n",
            "--Process data--\n",
            "--Make model--\n",
            "--Fit model--\n",
            "Train on 60000 samples\n",
            "Epoch 1/30\n",
            "60000/60000 - 5s - loss: 0.2248 - acc: 0.9343\n",
            "Epoch 2/30\n",
            "60000/60000 - 5s - loss: 0.0978 - acc: 0.9702\n",
            "Epoch 3/30\n",
            "60000/60000 - 5s - loss: 0.0669 - acc: 0.9792\n",
            "Epoch 4/30\n",
            "60000/60000 - 5s - loss: 0.0509 - acc: 0.9837\n",
            "Epoch 5/30\n",
            "60000/60000 - 4s - loss: 0.0410 - acc: 0.9867\n",
            "Epoch 6/30\n",
            "60000/60000 - 5s - loss: 0.0347 - acc: 0.9888\n",
            "Epoch 7/30\n",
            "60000/60000 - 5s - loss: 0.0262 - acc: 0.9914\n",
            "Epoch 8/30\n",
            "60000/60000 - 5s - loss: 0.0240 - acc: 0.9923\n",
            "Epoch 9/30\n",
            "60000/60000 - 5s - loss: 0.0208 - acc: 0.9928\n",
            "Epoch 10/30\n",
            "60000/60000 - 5s - loss: 0.0174 - acc: 0.9943\n",
            "Epoch 11/30\n",
            "60000/60000 - 5s - loss: 0.0168 - acc: 0.9942\n",
            "Epoch 12/30\n",
            "60000/60000 - 5s - loss: 0.0159 - acc: 0.9947\n",
            "Epoch 13/30\n",
            "60000/60000 - 4s - loss: 0.0159 - acc: 0.9948\n",
            "Epoch 14/30\n",
            "60000/60000 - 5s - loss: 0.0130 - acc: 0.9954\n",
            "Epoch 15/30\n",
            "60000/60000 - 5s - loss: 0.0115 - acc: 0.9965\n",
            "Epoch 16/30\n",
            "60000/60000 - 5s - loss: 0.0137 - acc: 0.9954\n",
            "Epoch 17/30\n",
            "60000/60000 - 5s - loss: 0.0095 - acc: 0.9968\n",
            "Epoch 18/30\n",
            "60000/60000 - 5s - loss: 0.0130 - acc: 0.9961\n",
            "Epoch 19/30\n",
            "60000/60000 - 5s - loss: 0.0101 - acc: 0.9966\n",
            "Epoch 20/30\n",
            "60000/60000 - 5s - loss: 0.0102 - acc: 0.9967\n",
            "Epoch 21/30\n",
            "60000/60000 - 5s - loss: 0.0083 - acc: 0.9974\n",
            "Epoch 22/30\n",
            "60000/60000 - 5s - loss: 0.0114 - acc: 0.9967\n",
            "Epoch 23/30\n",
            "60000/60000 - 5s - loss: 0.0085 - acc: 0.9975\n",
            "Epoch 24/30\n",
            "60000/60000 - 5s - loss: 0.0089 - acc: 0.9972\n",
            "Epoch 25/30\n",
            "60000/60000 - 5s - loss: 0.0083 - acc: 0.9971\n",
            "Epoch 26/30\n",
            "60000/60000 - 5s - loss: 0.0079 - acc: 0.9975\n",
            "Epoch 27/30\n",
            "60000/60000 - 5s - loss: 0.0094 - acc: 0.9971\n",
            "Epoch 28/30\n",
            "60000/60000 - 5s - loss: 0.0082 - acc: 0.9976\n",
            "Epoch 29/30\n",
            "60000/60000 - 5s - loss: 0.0096 - acc: 0.9971\n",
            "Epoch 30/30\n",
            "60000/60000 - 5s - loss: 0.0061 - acc: 0.9981\n",
            "--Evaluate train model--\n",
            "60000/60000 - 2s - loss: 0.0036 - acc: 0.9987\n",
            "Model Loss:    0.00\n",
            "Model Accuray: 99.9%\n",
            "--Evaluate test model--\n",
            "10000/10000 - 0s - loss: 0.1422 - acc: 0.9810\n",
            "Model Loss:    0.14\n",
            "Model Accuray: 98.1%\n"
          ],
          "name": "stdout"
        }
      ]
    },
    {
      "cell_type": "code",
      "metadata": {
        "id": "uqKuNbSJEaWc",
        "colab_type": "code",
        "colab": {}
      },
      "source": [
        "#Save Model to MNIST.h5\n",
        "model.save('MNIST.h5')\n"
      ],
      "execution_count": 0,
      "outputs": []
    },
    {
      "cell_type": "code",
      "metadata": {
        "id": "0Vc4ePZwERJW",
        "colab_type": "code",
        "colab": {}
      },
      "source": [
        "from google.colab import files\n",
        "files.download('MNIST.h5')"
      ],
      "execution_count": 0,
      "outputs": []
    }
  ]
}